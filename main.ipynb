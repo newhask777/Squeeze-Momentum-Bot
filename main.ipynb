{
 "cells": [
  {
   "cell_type": "code",
   "execution_count": null,
   "metadata": {},
   "outputs": [],
   "source": [
    "from indicators import Indicators\n",
    "from pybit.unified_trading import WebSocket, HTTP\n",
    "import json\n",
    "import time\n",
    "\n",
    "from db.conn import engine, SessionLocal, Base\n",
    "\n",
    "\n",
    "Base.metadata.create_all(bind=engine)\n",
    "db = SessionLocal()\n",
    "\n",
    "ws = 'websocket'\n",
    "http = 'http'\n",
    "ind = Indicators(ws, symbol='TONUSDT', save_ws=True, save_http=False, db=db)\n",
    "\n",
    "\n",
    "def main():\n",
    "\n",
    "    # while True:\n",
    "    time.sleep(5)\n",
    "    ind.sma_20()\n",
    "\n",
    "\n",
    "if __name__ == '__main__':\n",
    "    while True:\n",
    "        time.sleep(5)\n",
    "        main()"
   ]
  }
 ],
 "metadata": {
  "kernelspec": {
   "display_name": "venv",
   "language": "python",
   "name": "python3"
  },
  "language_info": {
   "codemirror_mode": {
    "name": "ipython",
    "version": 3
   },
   "file_extension": ".py",
   "mimetype": "text/x-python",
   "name": "python",
   "nbconvert_exporter": "python",
   "pygments_lexer": "ipython3",
   "version": "3.12.3"
  }
 },
 "nbformat": 4,
 "nbformat_minor": 2
}
